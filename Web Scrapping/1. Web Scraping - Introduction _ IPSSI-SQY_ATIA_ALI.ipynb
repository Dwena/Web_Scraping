{
 "cells": [
  {
   "cell_type": "markdown",
   "metadata": {
    "id": "oi9T2_uR5i3N"
   },
   "source": [
    "# 1. Web Scraping - Introduction\n",
    "\n",
    "<img src='https://xn--kvin-duranty-beb.fr/wp-content/uploads/2022/10/Web-Scraping-_-IPSSI-PRS.png'>\n",
    "\n",
    "\n",
    "Dans ce premier exercice, nous allons utiliser le package requests afin de scraper le premier site internet mis en ligne par Tim Berners-Lee le concepteur du langage de programmation html, et du protocole http.\n",
    "\n",
    "Cet exercice a pour but de revoir les bases de la programmation html, il est important de bien comprendre les notions de balise de tag et d'attribut afin de poursuivre ce cours dans les meilleures conditions.\n",
    "\n",
    "Voici quelques-uns des codes HTTP les plus couramment rencontrés lors de requêtes HTML :\n",
    "\n",
    "- `200` OK : La requête a réussi, et le serveur a retourné les données demandées.\n",
    "\n",
    "- `400` Bad Request : La syntaxe de la requête est incorrecte ou la requête est mal formée.\n",
    "\n",
    "- `401` Unauthorized : L'accès à la ressource est refusé en raison d'une authentification insuffisante ou de clés d'accès invalides.\n",
    "\n",
    "- `403` Forbidden : L'accès à la ressource est interdit, même avec une authentification valide.\n",
    "\n",
    "- `404` Not Found : La ressource demandée n'a pas été trouvée sur le serveur.\n",
    "\n",
    "- `500` Internal Server Error : Une erreur interne du serveur s'est produite, souvent due à un dysfonctionnement du côté du serveur.\n",
    "\n",
    "- `503` Service Unavailable : Le serveur n'est pas prêt à gérer la requête. Cela peut être dû à une surcharge temporaire ou à une maintenance du serveur.\n",
    "\n",
    "- `504` Gateway Timeout : Le serveur agissant comme une passerelle ou un proxy n'a pas reçu de réponse en temps opportun du serveur en amont ou d'une autre source nécessaire pour terminer la requête.\n",
    "\n",
    "## 1.1 Importez le package `requests`."
   ]
  },
  {
   "cell_type": "code",
   "execution_count": 1,
   "metadata": {
    "id": "c_z7EiJ3YXHx"
   },
   "outputs": [],
   "source": [
    "import requests"
   ]
  },
  {
   "cell_type": "markdown",
   "metadata": {
    "id": "mFfvtGma5i3Q"
   },
   "source": [
    "## 1.2 Utilisez la méthode `get` du package `requests` afin d'obtenir la page [TheProject](http://info.cern.ch/hypertext/WWW/TheProject.html).\n",
    "\n",
    "Enregistrez le résultat dans une variable `response` puis affichez le type de cette variable ainsi que le statut de la réponse en utilisant l'instance `status_code`."
   ]
  },
  {
   "cell_type": "code",
   "execution_count": 2,
   "metadata": {
    "id": "5Ca5aPEW5i3Q"
   },
   "outputs": [
    {
     "data": {
      "text/plain": [
       "<Response [200]>"
      ]
     },
     "execution_count": 2,
     "metadata": {},
     "output_type": "execute_result"
    }
   ],
   "source": [
    "response = requests.get(\"https://info.cern.ch/hypertext/WWW/TheProject.html\")\n",
    "response"
   ]
  },
  {
   "cell_type": "code",
   "execution_count": null,
   "metadata": {
    "id": "sawMMS2-5i3Q"
   },
   "outputs": [],
   "source": []
  },
  {
   "cell_type": "markdown",
   "metadata": {
    "id": "zaEToY3R5i3R"
   },
   "source": [
    "## 1.3 Utilisez l'instance `text` de la variable `response` et notez vos observations.\n",
    "Sauvegardez le résultat '`The World Wide Web project.html`', ouvrez ensuite ce fichier avec votre navigateur, notez vos observations.\n",
    "\n"
   ]
  },
  {
   "cell_type": "code",
   "execution_count": 3,
   "metadata": {
    "id": "jAQD_xaj5i3R"
   },
   "outputs": [
    {
     "name": "stdout",
     "output_type": "stream",
     "text": [
      "<HEADER>\n",
      "<TITLE>The World Wide Web project</TITLE>\n",
      "<NEXTID N=\"55\">\n",
      "</HEADER>\n",
      "<BODY>\n",
      "<H1>World Wide Web</H1>The WorldWideWeb (W3) is a wide-area<A\n",
      "NAME=0 HREF=\"WhatIs.html\">\n",
      "hypermedia</A> information retrieval\n",
      "initiative aiming to give universal\n",
      "access to a large universe of documents.<P>\n",
      "Everything there is online about\n",
      "W3 is linked directly or indirectly\n",
      "to this document, including an <A\n",
      "NAME=24 HREF=\"Summary.html\">executive\n",
      "summary</A> of the project, <A\n",
      "NAME=29 HREF=\"Administration/Mailing/Overview.html\">Mailing lists</A>\n",
      ", <A\n",
      "NAME=30 HREF=\"Policy.html\">Policy</A> , November's  <A\n",
      "NAME=34 HREF=\"News/9211.html\">W3  news</A> ,\n",
      "<A\n",
      "NAME=41 HREF=\"FAQ/List.html\">Frequently Asked Questions</A> .\n",
      "<DL>\n",
      "<DT><A\n",
      "NAME=44 HREF=\"../DataSources/Top.html\">What's out there?</A>\n",
      "<DD> Pointers to the\n",
      "world's online information,<A\n",
      "NAME=45 HREF=\"../DataSources/bySubject/Overview.html\"> subjects</A>\n",
      ", <A\n",
      "NAME=z54 HREF=\"../DataSources/WWW/Servers.html\">W3 servers</A>, etc.\n",
      "<DT><A\n",
      "NAME=46 HREF=\"Help.html\">Help</A>\n",
      "<DD> on the browser you are using\n",
      "<DT><A\n",
      "NAME=13 HREF=\"Status.html\">Software Products</A>\n",
      "<DD> A list of W3 project\n",
      "components and their current state.\n",
      "(e.g. <A\n",
      "NAME=27 HREF=\"LineMode/Browser.html\">Line Mode</A> ,X11 <A\n",
      "NAME=35 HREF=\"Status.html#35\">Viola</A> ,  <A\n",
      "NAME=26 HREF=\"NeXT/WorldWideWeb.html\">NeXTStep</A>\n",
      ", <A\n",
      "NAME=25 HREF=\"Daemon/Overview.html\">Servers</A> , <A\n",
      "NAME=51 HREF=\"Tools/Overview.html\">Tools</A> ,<A\n",
      "NAME=53 HREF=\"MailRobot/Overview.html\"> Mail robot</A> ,<A\n",
      "NAME=52 HREF=\"Status.html#57\">\n",
      "Library</A> )\n",
      "<DT><A\n",
      "NAME=47 HREF=\"Technical.html\">Technical</A>\n",
      "<DD> Details of protocols, formats,\n",
      "program internals etc\n",
      "<DT><A\n",
      "NAME=40 HREF=\"Bibliography.html\">Bibliography</A>\n",
      "<DD> Paper documentation\n",
      "on  W3 and references.\n",
      "<DT><A\n",
      "NAME=14 HREF=\"People.html\">People</A>\n",
      "<DD> A list of some people involved\n",
      "in the project.\n",
      "<DT><A\n",
      "NAME=15 HREF=\"History.html\">History</A>\n",
      "<DD> A summary of the history\n",
      "of the project.\n",
      "<DT><A\n",
      "NAME=37 HREF=\"Helping.html\">How can I help</A> ?\n",
      "<DD> If you would like\n",
      "to support the web..\n",
      "<DT><A\n",
      "NAME=48 HREF=\"../README.html\">Getting code</A>\n",
      "<DD> Getting the code by<A\n",
      "NAME=49 HREF=\"LineMode/Defaults/Distribution.html\">\n",
      "anonymous FTP</A> , etc.</A>\n",
      "</DL>\n",
      "</BODY>\n",
      "\n"
     ]
    }
   ],
   "source": [
    "print(response.text)"
   ]
  },
  {
   "cell_type": "code",
   "execution_count": 4,
   "metadata": {
    "id": "NdJ1wbuj5i3R"
   },
   "outputs": [],
   "source": [
    "with open('The World Wide Web project.html', 'w') as file:\n",
    "    file.write(response.text)"
   ]
  },
  {
   "cell_type": "markdown",
   "metadata": {
    "id": "YPWby_UF5i3S"
   },
   "source": [
    "## 1.4 Quelle instance de la variable `response` contient l'adresse URL de la page observée ?"
   ]
  },
  {
   "cell_type": "code",
   "execution_count": 5,
   "metadata": {
    "id": "KsBkup6F5i3S"
   },
   "outputs": [
    {
     "name": "stdout",
     "output_type": "stream",
     "text": [
      "https://info.cern.ch/hypertext/WWW/TheProject.html\n"
     ]
    }
   ],
   "source": [
    "print(response.url)"
   ]
  },
  {
   "cell_type": "markdown",
   "metadata": {
    "id": "3-njyNi-5i3S"
   },
   "source": [
    "## 1.5 Combien de titre 'h1' contient la page  `The World Wide Web project` ?\n",
    "! Attention aux majuscules !"
   ]
  },
  {
   "cell_type": "code",
   "execution_count": 8,
   "metadata": {
    "id": "FdMQR9VO5i3S"
   },
   "outputs": [
    {
     "name": "stdout",
     "output_type": "stream",
     "text": [
      "1\n"
     ]
    }
   ],
   "source": [
    "from bs4 import BeautifulSoup\n",
    "\n",
    "soup = BeautifulSoup(response.text, 'html.parser')\n",
    "h1_tags = soup.find_all('h1')\n",
    "print(len(h1_tags))\n"
   ]
  },
  {
   "cell_type": "markdown",
   "metadata": {
    "id": "QrMCcrzB5i3T"
   },
   "source": [
    "## 1.6 Combien de lien possède la page `The World Wide Web project` ?"
   ]
  },
  {
   "cell_type": "code",
   "execution_count": 9,
   "metadata": {
    "id": "D-OceEPN5i3T"
   },
   "outputs": [
    {
     "name": "stdout",
     "output_type": "stream",
     "text": [
      "25\n"
     ]
    }
   ],
   "source": [
    "a_tags = soup.find_all('a')\n",
    "print(len(a_tags))\n"
   ]
  },
  {
   "cell_type": "markdown",
   "metadata": {
    "id": "4u0n28wV5i3T"
   },
   "source": [
    "## 1.7 Récupérez tous les liens de la page à l'aide d'une fonction.\n",
    "\n",
    "Créez une fonction `get_links` qui prend en argument une variable `response` (de type requests.models.Response) et qui retourne une liste contenant tous les liens présents sur la page."
   ]
  },
  {
   "cell_type": "code",
   "execution_count": 10,
   "metadata": {
    "id": "QHzy3hV05i3T"
   },
   "outputs": [
    {
     "name": "stdout",
     "output_type": "stream",
     "text": [
      "['WhatIs.html', 'Summary.html', 'Administration/Mailing/Overview.html', 'Policy.html', 'News/9211.html', 'FAQ/List.html', '../DataSources/Top.html', '../DataSources/bySubject/Overview.html', '../DataSources/WWW/Servers.html', 'Help.html', 'Status.html', 'LineMode/Browser.html', 'Status.html#35', 'NeXT/WorldWideWeb.html', 'Daemon/Overview.html', 'Tools/Overview.html', 'MailRobot/Overview.html', 'Status.html#57', 'Technical.html', 'Bibliography.html', 'People.html', 'History.html', 'Helping.html', '../README.html', 'LineMode/Defaults/Distribution.html']\n"
     ]
    }
   ],
   "source": [
    "def get_links(response):\n",
    "    soup = BeautifulSoup(response.text, 'html.parser')\n",
    "    return [link.get('href') for link in soup.find_all('a')]\n",
    "\n",
    "links = get_links(response)\n",
    "print(links)\n"
   ]
  },
  {
   "cell_type": "markdown",
   "metadata": {
    "id": "HeUd4lJm5i3T"
   },
   "source": [
    "## 1.8 Vérifiez l'existence des pages présentes dans cette liste."
   ]
  },
  {
   "cell_type": "code",
   "execution_count": 17,
   "metadata": {
    "id": "NK5e_joN5i3T"
   },
   "outputs": [
    {
     "name": "stdout",
     "output_type": "stream",
     "text": [
      "http://info.cern.ch/hypertext/WWW/WhatIs.html 200\n",
      "http://info.cern.ch/hypertext/WWW/Summary.html 200\n",
      "http://info.cern.ch/hypertext/WWW/Administration/Mailing/Overview.html 404\n",
      "http://info.cern.ch/hypertext/WWW/Policy.html 200\n",
      "http://info.cern.ch/hypertext/WWW/News/9211.html 200\n",
      "http://info.cern.ch/hypertext/WWW/FAQ/List.html 200\n",
      "http://info.cern.ch/hypertext/DataSources/Top.html 200\n",
      "http://info.cern.ch/hypertext/DataSources/bySubject/Overview.html 200\n",
      "http://info.cern.ch/hypertext/DataSources/WWW/Servers.html 200\n",
      "http://info.cern.ch/hypertext/WWW/Help.html 200\n",
      "http://info.cern.ch/hypertext/WWW/Status.html 200\n",
      "http://info.cern.ch/hypertext/WWW/LineMode/Browser.html 200\n",
      "http://info.cern.ch/hypertext/WWW/Status.html#35 200\n",
      "http://info.cern.ch/hypertext/WWW/NeXT/WorldWideWeb.html 200\n",
      "http://info.cern.ch/hypertext/WWW/Daemon/Overview.html 200\n",
      "http://info.cern.ch/hypertext/WWW/Tools/Overview.html 200\n",
      "http://info.cern.ch/hypertext/WWW/MailRobot/Overview.html 200\n",
      "http://info.cern.ch/hypertext/WWW/Status.html#57 200\n",
      "http://info.cern.ch/hypertext/WWW/Technical.html 200\n",
      "http://info.cern.ch/hypertext/WWW/Bibliography.html 200\n",
      "http://info.cern.ch/hypertext/WWW/People.html 200\n",
      "http://info.cern.ch/hypertext/WWW/History.html 200\n",
      "http://info.cern.ch/hypertext/WWW/Helping.html 200\n",
      "http://info.cern.ch/hypertext/README.html 200\n",
      "http://info.cern.ch/hypertext/WWW/LineMode/Defaults/Distribution.html 200\n"
     ]
    }
   ],
   "source": [
    "from urllib.parse import urljoin\n",
    "\n",
    "base_url = \"http://info.cern.ch/hypertext/WWW/\"\n",
    "\n",
    "for link in links:\n",
    "    absolute_link = urljoin(base_url, link)\n",
    "    res = requests.get(absolute_link)\n",
    "    print(absolute_link, res.status_code)\n"
   ]
  },
  {
   "cell_type": "code",
   "execution_count": null,
   "metadata": {
    "id": "_jR0OnSp5i3U"
   },
   "outputs": [],
   "source": []
  },
  {
   "cell_type": "markdown",
   "metadata": {
    "id": "aWAoXHPe5i3U"
   },
   "source": [
    "## 1.9 Récupérez les liens présents sur la deuxième page de cette liste."
   ]
  },
  {
   "cell_type": "code",
   "execution_count": null,
   "metadata": {
    "id": "Q5ibct4j5i3U"
   },
   "outputs": [],
   "source": []
  },
  {
   "cell_type": "code",
   "execution_count": null,
   "metadata": {
    "id": "nMGLI2Iw5i3U"
   },
   "outputs": [],
   "source": []
  },
  {
   "cell_type": "code",
   "execution_count": null,
   "metadata": {
    "id": "7mPaqd0-5i3U"
   },
   "outputs": [],
   "source": []
  },
  {
   "cell_type": "code",
   "execution_count": null,
   "metadata": {
    "id": "0i5Qh8705i3U"
   },
   "outputs": [],
   "source": []
  },
  {
   "cell_type": "code",
   "execution_count": null,
   "metadata": {
    "id": "mfPWnoeA5i3U"
   },
   "outputs": [],
   "source": []
  }
 ],
 "metadata": {
  "colab": {
   "provenance": []
  },
  "kernelspec": {
   "display_name": "Python 3 (ipykernel)",
   "language": "python",
   "name": "python3"
  },
  "language_info": {
   "codemirror_mode": {
    "name": "ipython",
    "version": 3
   },
   "file_extension": ".py",
   "mimetype": "text/x-python",
   "name": "python",
   "nbconvert_exporter": "python",
   "pygments_lexer": "ipython3",
   "version": "3.9.13"
  }
 },
 "nbformat": 4,
 "nbformat_minor": 1
}
